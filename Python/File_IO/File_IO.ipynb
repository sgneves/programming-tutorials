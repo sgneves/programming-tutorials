{
 "cells": [
  {
   "cell_type": "code",
   "execution_count": 1,
   "metadata": {},
   "outputs": [],
   "source": [
    "%reset -f\n",
    "\n",
    "from array import array\n",
    "import numpy as np\n",
    "import pickle"
   ]
  },
  {
   "attachments": {},
   "cell_type": "markdown",
   "metadata": {},
   "source": [
    "This notebook covers file I/O. The built-in function [open](https://docs.python.org/library/functions.html#open) opens a file and returns a corresponding [file object](https://docs.python.org/glossary.html#term-file-object). Python distinguishes between text and binary I/O. If `t` is included in the parameter `mode` of the function `open`, it is text mode, and if `b` is included, it is binary mode. Text I/O is the default mode so specifying e.g. `w` is equivalent to `wt`. The type of file object returned by the function open depends on the mode. When text mode is used, it returns a subclass of [io.TextIOBase](https://docs.python.org/library/io.html#io.TextIOBase) (specifically [io.TextIOWrapper](https://docs.python.org/library/io.html#io.TextIOWrapper)). When binary mode is used, the returned class is a subclass of [io.BufferedIOBase](https://docs.python.org/library/io.html#io.BufferedIOBase). The exact class varies: in read binary mode, it returns an [io.BufferedReader](https://docs.python.org/library/io.html#io.BufferedReader); in write binary and append binary modes, it returns an [io.BufferedWriter](https://docs.python.org/library/io.html#io.BufferedWriter). [IOBase](https://docs.python.org/library/io.html#io.IOBase) is the abstract base class for all I/O classes.\n",
    "\n",
    "# Text files\n",
    "\n",
    "The [write](https://docs.python.org/library/io.html#io.TextIOBase.write) method writes a `str` to the stream and returns the number of characters written.\n",
    "\n",
    "```python\n",
    "write(s, /)\n",
    "```\n",
    "\n",
    "The built-in function [print](https://docs.python.org/library/functions.html#print) can also be used to write to text files. It is good practice to use the [with](https://docs.python.org/reference/compound_stmts.html#with) statement when dealing with file objects. The advantage is that the file is properly closed even if an exception is raised at some point. Using with is also much shorter than writing equivalent try-catch blocks."
   ]
  },
  {
   "cell_type": "code",
   "execution_count": 2,
   "metadata": {},
   "outputs": [
    {
     "name": "stdout",
     "output_type": "stream",
     "text": [
      "13\n"
     ]
    }
   ],
   "source": [
    "with open('file.txt', 'w') as f:\n",
    "    print('line 1', file=f) # print adds the newline character\n",
    "    print(f.write('\\n'. join(['line 2', 'line 3'])))"
   ]
  },
  {
   "attachments": {},
   "cell_type": "markdown",
   "metadata": {},
   "source": [
    "The [read](https://docs.python.org/library/io.html#io.TextIOBase.read) method reads and returns at most *size* characters from the stream as a single `str`. If *size* is negative or `None`, reads until EOF. A slash in the argument list of a function denotes that the parameters prior to it are positional-only ([Python FAQ](https://docs.python.org/faq/programming.html#faq-positional-only-arguments)).\n",
    "\n",
    "```python\n",
    "read(size=-1, /)\n",
    "```"
   ]
  },
  {
   "cell_type": "code",
   "execution_count": 3,
   "metadata": {},
   "outputs": [
    {
     "name": "stdout",
     "output_type": "stream",
     "text": [
      "line 1\n",
      "line 2\n",
      "line 3\n"
     ]
    }
   ],
   "source": [
    "with open('file.txt', 'r') as f:\n",
    "    chars = f.read()\n",
    "print(chars)"
   ]
  },
  {
   "attachments": {},
   "cell_type": "markdown",
   "metadata": {},
   "source": [
    "The [readline](https://docs.python.org/library/io.html#io.TextIOBase.readline) method reads until newline or EOF and returns a single `str`. If the stream is already at EOF, an empty string is returned. If *size* is specified, at most *size* characters will be read. If a newline is read, it is included in the string.\n",
    "\n",
    "```python\n",
    "readline(size=- 1, /)\n",
    "```"
   ]
  },
  {
   "cell_type": "code",
   "execution_count": 4,
   "metadata": {},
   "outputs": [
    {
     "name": "stdout",
     "output_type": "stream",
     "text": [
      "line 1\n",
      "line 2\n",
      "line 3"
     ]
    }
   ],
   "source": [
    "with open('file.txt', 'r') as f:\n",
    "    while line := f.readline():\n",
    "        print(line, end='') # line includes the newline"
   ]
  },
  {
   "attachments": {},
   "cell_type": "markdown",
   "metadata": {},
   "source": [
    "IOBase (and its subclasses) supports the iterator protocol, meaning that an IOBase object can be iterated over yielding the lines in a stream."
   ]
  },
  {
   "cell_type": "code",
   "execution_count": 5,
   "metadata": {},
   "outputs": [
    {
     "name": "stdout",
     "output_type": "stream",
     "text": [
      "line 1\n",
      "line 2\n",
      "line 3"
     ]
    }
   ],
   "source": [
    "with open('file.txt', 'r') as f:\n",
    "    for line in f:\n",
    "        print(line, end='')"
   ]
  },
  {
   "attachments": {},
   "cell_type": "markdown",
   "metadata": {},
   "source": [
    "The [readlines](https://docs.python.org/library/io.html#io.IOBase.readlines) method reads and returns a list of lines from the stream. *hint* can be specified to control the number of lines read: no more lines will be read if the total size (in characters) of all lines so far exceeds *hint*.\n",
    "\n",
    "```python\n",
    "readlines(hint=- 1, /)\n",
    "```"
   ]
  },
  {
   "cell_type": "code",
   "execution_count": 6,
   "metadata": {},
   "outputs": [
    {
     "name": "stdout",
     "output_type": "stream",
     "text": [
      "['line 1\\n', 'line 2\\n', 'line 3']\n"
     ]
    }
   ],
   "source": [
    "with open('file.txt', 'r') as f:\n",
    "    print(f.readlines())"
   ]
  },
  {
   "attachments": {},
   "cell_type": "markdown",
   "metadata": {},
   "source": [
    "The [seek](https://docs.python.org/library/io.html#io.TextIOBase.seek) method changes the stream position to the given *offset*.\n",
    "\n",
    "```python\n",
    "seek(offset, whence=SEEK_SET, /)\n",
    "```\n",
    "\n",
    "The following code reads all lines, changes the stream position to its beginning and reads the lines again."
   ]
  },
  {
   "cell_type": "code",
   "execution_count": 7,
   "metadata": {},
   "outputs": [
    {
     "name": "stdout",
     "output_type": "stream",
     "text": [
      "['line 1\\n', 'line 2\\n', 'line 3']\n",
      "['line 1\\n', 'line 2\\n', 'line 3']\n"
     ]
    }
   ],
   "source": [
    "with open('file.txt', 'r') as f:\n",
    "    print(f.readlines())\n",
    "    f.seek(0)\n",
    "    print(f.readlines())"
   ]
  },
  {
   "attachments": {},
   "cell_type": "markdown",
   "metadata": {},
   "source": [
    "# Binary files\n",
    "\n",
    "The [write](https://docs.python.org/library/io.html#io.BufferedWriter.write) method writes the [bytes-like object](https://docs.python.org/glossary.html#term-bytes-like-object), b, and returns the number of bytes written.\n",
    "\n",
    "```python\n",
    "write(b, /)\n",
    "```\n",
    "\n",
    "The [read](https://docs.python.org/library/io.html#io.BufferedReader.read) method reads and returns *size* bytes, or if *size* is not given or negative, until EOF.\n",
    "\n",
    "```python\n",
    "read(size=- 1, /)\n",
    "```\n",
    "\n",
    "The following example writes and reads a `int` to/from a binary file. The `int` is converted to a [bytes](https://docs.python.org/library/stdtypes.html#bytes) object using the [to_bytes](https://docs.python.org/library/stdtypes.html#int.to_bytes) method of `int`."
   ]
  },
  {
   "cell_type": "code",
   "execution_count": 8,
   "metadata": {},
   "outputs": [
    {
     "name": "stdout",
     "output_type": "stream",
     "text": [
      "4\n",
      "100\n"
     ]
    }
   ],
   "source": [
    "with open('file.bin', 'wb') as f:\n",
    "    print(f.write((100).to_bytes(4)))\n",
    "\n",
    "with open('file.bin', 'rb') as f:\n",
    "    print(int.from_bytes(f.read(4)))"
   ]
  },
  {
   "attachments": {},
   "cell_type": "markdown",
   "metadata": {},
   "source": [
    "The [array](https://docs.python.org/library/array.html#array.array) class can be used to read/write an array of basic values (characters, integers, floating point numbers)."
   ]
  },
  {
   "cell_type": "code",
   "execution_count": 9,
   "metadata": {},
   "outputs": [
    {
     "name": "stdout",
     "output_type": "stream",
     "text": [
      "[1, 2]\n",
      "[1.5, 2.5]\n"
     ]
    }
   ],
   "source": [
    "# Write a list of int and a list of float to file using the array class\n",
    "l_i = [1, 2]\n",
    "l_f = [1.5, 2.5]\n",
    "\n",
    "def write_array(arr, typecode):\n",
    "    # Convert arr to an array instance\n",
    "    arr = array(typecode, arr)\n",
    "    # Write the size of the array using 4 bytes\n",
    "    f.write(len(arr).to_bytes(4))\n",
    "    # Write the array to file\n",
    "    arr.tofile(f)\n",
    "\n",
    "def read_array(f, typecode):\n",
    "    # Read the size of the array (4 bytes)\n",
    "    n = int.from_bytes(f.read(4))\n",
    "    # Read the array from file\n",
    "    (arr := array(typecode)).fromfile(f, n)\n",
    "    return arr\n",
    "\n",
    "with open('file.bin', 'wb') as f:\n",
    "    write_array(l_i, 'l') # C type: signed long\n",
    "    write_array(l_f, 'd') # C type: double\n",
    "\n",
    "with open('file.bin', 'rb') as f:\n",
    "    print(read_array(f, 'l').tolist())\n",
    "    print(read_array(f, 'd').tolist())"
   ]
  },
  {
   "attachments": {},
   "cell_type": "markdown",
   "metadata": {},
   "source": [
    "The [numpy.savez](https://numpy.org/doc/stable/reference/generated/numpy.savez.html) method saves several arrays into a single file in uncompressed .npz format. The [numpy.load](https://numpy.org/doc/stable/reference/generated/numpy.load.html) method loads arrays or pickled objects from .npy, .npz or pickled files."
   ]
  },
  {
   "cell_type": "code",
   "execution_count": 10,
   "metadata": {},
   "outputs": [
    {
     "name": "stdout",
     "output_type": "stream",
     "text": [
      "[1 2]\n",
      "[1.5 2.5]\n"
     ]
    }
   ],
   "source": [
    "np.savez('file', l_i=l_i, l_f=l_f)\n",
    "arrays = np.load('file.npz')\n",
    "print(arrays['l_i'])\n",
    "print(arrays['l_f'])"
   ]
  },
  {
   "attachments": {},
   "cell_type": "markdown",
   "metadata": {},
   "source": [
    "The [pickle](https://docs.python.org/library/pickle.html#module-pickle) module implements binary protocols for serializing and de-serializing a Python object structure and can be used with different data types (`list`, `tuple`, `dict`, `DataFrame`, etc.)."
   ]
  },
  {
   "cell_type": "code",
   "execution_count": 11,
   "metadata": {},
   "outputs": [
    {
     "name": "stdout",
     "output_type": "stream",
     "text": [
      "[1, 2]\n",
      "[1.5, 2.5]\n"
     ]
    }
   ],
   "source": [
    "with open('file.pkl', 'wb') as f:\n",
    "    pickle.dump((l_i, l_f), f)\n",
    "\n",
    "with open('file.pkl', 'rb') as f:\n",
    "    l_i, l_f = pickle.load(f)\n",
    "print(l_i)\n",
    "print(l_f)"
   ]
  },
  {
   "attachments": {},
   "cell_type": "markdown",
   "metadata": {},
   "source": [
    "# See also\n",
    "\n",
    "- [io — Core tools for working with streams](https://docs.python.org/library/io.html)"
   ]
  }
 ],
 "metadata": {
  "kernelspec": {
   "display_name": "Python 3 (ipykernel)",
   "language": "python",
   "name": "python3"
  },
  "language_info": {
   "codemirror_mode": {
    "name": "ipython",
    "version": 3
   },
   "file_extension": ".py",
   "mimetype": "text/x-python",
   "name": "python",
   "nbconvert_exporter": "python",
   "pygments_lexer": "ipython3",
   "version": "3.11.1"
  }
 },
 "nbformat": 4,
 "nbformat_minor": 4
}
