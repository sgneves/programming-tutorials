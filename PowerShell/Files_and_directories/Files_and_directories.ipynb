{
 "cells": [
  {
   "cell_type": "markdown",
   "id": "11c6b077-dec3-4e95-a8b0-37b129551329",
   "metadata": {},
   "source": [
    "# Working with files and directories\n",
    "\n",
    "## Listing all the files and directories within a directory\n",
    "\n",
    "[Get-ChildItem](https://docs.microsoft.com/en-us/powershell/module/microsoft.powershell.management/get-childitem) gets the items and child items in one or more specified locations. If the item is a container, it gets the items inside the container, known as child items."
   ]
  },
  {
   "cell_type": "code",
   "execution_count": 1,
   "id": "848a3353-b5dd-4538-b1bb-5f67e0901ca4",
   "metadata": {},
   "outputs": [
    {
     "data": {
      "text/html": [
       "\r\n",
       "<div>\r\n",
       "    <div id='dotnet-interactive-this-cell-83148.Microsoft.DotNet.Interactive.Http.HttpPort' style='display: none'>\r\n",
       "        The below script needs to be able to find the current output cell; this is an easy method to get it.\r\n",
       "    </div>\r\n",
       "    <script type='text/javascript'>\r\n",
       "async function probeAddresses(probingAddresses) {\r\n",
       "    function timeout(ms, promise) {\r\n",
       "        return new Promise(function (resolve, reject) {\r\n",
       "            setTimeout(function () {\r\n",
       "                reject(new Error('timeout'))\r\n",
       "            }, ms)\r\n",
       "            promise.then(resolve, reject)\r\n",
       "        })\r\n",
       "    }\r\n",
       "\r\n",
       "    if (Array.isArray(probingAddresses)) {\r\n",
       "        for (let i = 0; i < probingAddresses.length; i++) {\r\n",
       "\r\n",
       "            let rootUrl = probingAddresses[i];\r\n",
       "\r\n",
       "            if (!rootUrl.endsWith('/')) {\r\n",
       "                rootUrl = `${rootUrl}/`;\r\n",
       "            }\r\n",
       "\r\n",
       "            try {\r\n",
       "                let response = await timeout(1000, fetch(`${rootUrl}discovery`, {\r\n",
       "                    method: 'POST',\r\n",
       "                    cache: 'no-cache',\r\n",
       "                    mode: 'cors',\r\n",
       "                    timeout: 1000,\r\n",
       "                    headers: {\r\n",
       "                        'Content-Type': 'text/plain'\r\n",
       "                    },\r\n",
       "                    body: probingAddresses[i]\r\n",
       "                }));\r\n",
       "\r\n",
       "                if (response.status == 200) {\r\n",
       "                    return rootUrl;\r\n",
       "                }\r\n",
       "            }\r\n",
       "            catch (e) { }\r\n",
       "        }\r\n",
       "    }\r\n",
       "}\r\n",
       "\r\n",
       "function loadDotnetInteractiveApi() {\r\n",
       "    probeAddresses([\"http://192.168.1.25:1001/\", \"http://127.0.0.1:1001/\"])\r\n",
       "        .then((root) => {\r\n",
       "        // use probing to find host url and api resources\r\n",
       "        // load interactive helpers and language services\r\n",
       "        let dotnetInteractiveRequire = require.config({\r\n",
       "        context: '83148.Microsoft.DotNet.Interactive.Http.HttpPort',\r\n",
       "                paths:\r\n",
       "            {\r\n",
       "                'dotnet-interactive': `${root}resources`\r\n",
       "                }\r\n",
       "        }) || require;\r\n",
       "\r\n",
       "            window.dotnetInteractiveRequire = dotnetInteractiveRequire;\r\n",
       "\r\n",
       "            window.configureRequireFromExtension = function(extensionName, extensionCacheBuster) {\r\n",
       "                let paths = {};\r\n",
       "                paths[extensionName] = `${root}extensions/${extensionName}/resources/`;\r\n",
       "                \r\n",
       "                let internalRequire = require.config({\r\n",
       "                    context: extensionCacheBuster,\r\n",
       "                    paths: paths,\r\n",
       "                    urlArgs: `cacheBuster=${extensionCacheBuster}`\r\n",
       "                    }) || require;\r\n",
       "\r\n",
       "                return internalRequire\r\n",
       "            };\r\n",
       "        \r\n",
       "            dotnetInteractiveRequire([\r\n",
       "                    'dotnet-interactive/dotnet-interactive'\r\n",
       "                ],\r\n",
       "                function (dotnet) {\r\n",
       "                    dotnet.init(window);\r\n",
       "                },\r\n",
       "                function (error) {\r\n",
       "                    console.log(error);\r\n",
       "                }\r\n",
       "            );\r\n",
       "        })\r\n",
       "        .catch(error => {console.log(error);});\r\n",
       "    }\r\n",
       "\r\n",
       "// ensure `require` is available globally\r\n",
       "if ((typeof(require) !==  typeof(Function)) || (typeof(require.config) !== typeof(Function))) {\r\n",
       "    let require_script = document.createElement('script');\r\n",
       "    require_script.setAttribute('src', 'https://cdnjs.cloudflare.com/ajax/libs/require.js/2.3.6/require.min.js');\r\n",
       "    require_script.setAttribute('type', 'text/javascript');\r\n",
       "    \r\n",
       "    \r\n",
       "    require_script.onload = function() {\r\n",
       "        loadDotnetInteractiveApi();\r\n",
       "    };\r\n",
       "\r\n",
       "    document.getElementsByTagName('head')[0].appendChild(require_script);\r\n",
       "}\r\n",
       "else {\r\n",
       "    loadDotnetInteractiveApi();\r\n",
       "}\r\n",
       "\r\n",
       "    </script>\r\n",
       "</div>"
      ]
     },
     "metadata": {},
     "output_type": "display_data"
    }
   ],
   "source": [
    "$Dir = '.\\Dir_1'"
   ]
  },
  {
   "cell_type": "code",
   "execution_count": 2,
   "id": "9bd11019-a91f-48e0-af8e-6846dfe3041e",
   "metadata": {},
   "outputs": [
    {
     "name": "stdout",
     "output_type": "stream",
     "text": [
      "\n",
      "    Directory: E:\\FEAUsers\\Sergio\\Programming\\Tutorials\\PowerShell\\Files_and_directories\\Dir_1\n",
      "\n",
      "\u001b[32;1mMode                 LastWriteTime         Length Name\u001b[0m\n",
      "\u001b[32;1m----                 -------------         ------ ----\u001b[0m\n",
      "d----          18/05/2022    12:16                Dir_2\n",
      "d----          18/05/2022    12:16                Dir_3\n",
      "\n"
     ]
    }
   ],
   "source": [
    "Get-ChildItem -Path $Dir"
   ]
  },
  {
   "cell_type": "markdown",
   "id": "0bb79563-1c1e-443f-aae1-40b7ff1c858d",
   "metadata": {},
   "source": [
    "The [ForEach-Object](https://docs.microsoft.com/en-us/powershell/module/microsoft.powershell.core/foreach-object) cmdlet can be used to get just the *FullName* property. *Foreach* is an alias of the *ForEach-Object* cmdlet."
   ]
  },
  {
   "cell_type": "code",
   "execution_count": 3,
   "id": "f19bd403-4f56-4c7b-ac05-d53fa6cf8419",
   "metadata": {},
   "outputs": [
    {
     "name": "stdout",
     "output_type": "stream",
     "text": [
      "E:\\FEAUsers\\Sergio\\Programming\\Tutorials\\PowerShell\\Files_and_directories\\Dir_1\\Dir_2\n",
      "E:\\FEAUsers\\Sergio\\Programming\\Tutorials\\PowerShell\\Files_and_directories\\Dir_1\\Dir_3\n"
     ]
    }
   ],
   "source": [
    "Get-ChildItem -Path $Dir | Foreach FullName"
   ]
  },
  {
   "cell_type": "markdown",
   "id": "a909d433-b8f4-431a-97df-97cfc566a020",
   "metadata": {},
   "source": [
    "PowerShell offers the ability to request FullName directly. PowerShell enumerates them all for us and returns a clean list."
   ]
  },
  {
   "cell_type": "code",
   "execution_count": 4,
   "id": "64a9179c-636f-4158-b62f-3ae651000877",
   "metadata": {},
   "outputs": [
    {
     "name": "stdout",
     "output_type": "stream",
     "text": [
      "E:\\FEAUsers\\Sergio\\Programming\\Tutorials\\PowerShell\\Files_and_directories\\Dir_1\\Dir_2\n",
      "E:\\FEAUsers\\Sergio\\Programming\\Tutorials\\PowerShell\\Files_and_directories\\Dir_1\\Dir_3\n"
     ]
    }
   ],
   "source": [
    "(Get-ChildItem -Path $Dir).Fullname"
   ]
  },
  {
   "cell_type": "markdown",
   "id": "2c6228d9-e896-49a8-a15f-9711cbe25dc2",
   "metadata": {},
   "source": [
    "The *-Recurse* parameter can be used to get items in all child containers."
   ]
  },
  {
   "cell_type": "code",
   "execution_count": 5,
   "id": "c2366386-37ea-409f-bbbf-6704091a13cf",
   "metadata": {},
   "outputs": [
    {
     "name": "stdout",
     "output_type": "stream",
     "text": [
      "E:\\FEAUsers\\Sergio\\Programming\\Tutorials\\PowerShell\\Files_and_directories\\Dir_1\\Dir_2\n",
      "E:\\FEAUsers\\Sergio\\Programming\\Tutorials\\PowerShell\\Files_and_directories\\Dir_1\\Dir_3\n",
      "E:\\FEAUsers\\Sergio\\Programming\\Tutorials\\PowerShell\\Files_and_directories\\Dir_1\\Dir_2\\File_1.txt\n",
      "E:\\FEAUsers\\Sergio\\Programming\\Tutorials\\PowerShell\\Files_and_directories\\Dir_1\\Dir_3\\File_2.txt\n"
     ]
    }
   ],
   "source": [
    "(Get-ChildItem -Path $Dir -Recurse).Fullname"
   ]
  },
  {
   "cell_type": "markdown",
   "id": "0b3e669a-a4a7-413d-87de-20900f54212c",
   "metadata": {},
   "source": [
    "The *-Directory* and *-File* parameters can be used to just list directories or files."
   ]
  },
  {
   "cell_type": "code",
   "execution_count": 6,
   "id": "b2dcbcc6-d8c9-481e-ab84-cd041f9f17d4",
   "metadata": {},
   "outputs": [
    {
     "name": "stdout",
     "output_type": "stream",
     "text": [
      "E:\\FEAUsers\\Sergio\\Programming\\Tutorials\\PowerShell\\Files_and_directories\\Dir_1\\Dir_2\n",
      "E:\\FEAUsers\\Sergio\\Programming\\Tutorials\\PowerShell\\Files_and_directories\\Dir_1\\Dir_3\n"
     ]
    }
   ],
   "source": [
    "(Get-ChildItem -Path $Dir -Recurse -Directory).Fullname"
   ]
  },
  {
   "cell_type": "code",
   "execution_count": 7,
   "id": "5594065b-0937-4b12-8921-19521c167f91",
   "metadata": {},
   "outputs": [
    {
     "name": "stdout",
     "output_type": "stream",
     "text": [
      "E:\\FEAUsers\\Sergio\\Programming\\Tutorials\\PowerShell\\Files_and_directories\\Dir_1\\Dir_2\\File_1.txt\n",
      "E:\\FEAUsers\\Sergio\\Programming\\Tutorials\\PowerShell\\Files_and_directories\\Dir_1\\Dir_3\\File_2.txt\n"
     ]
    }
   ],
   "source": [
    "(Get-ChildItem -Path $Dir -Recurse -File).Fullname"
   ]
  },
  {
   "cell_type": "markdown",
   "id": "6ce1eb2c-1138-4620-957b-12c4627e912a",
   "metadata": {},
   "source": [
    "## Current working location\n",
    "\n",
    "[Get-Location](https://docs.microsoft.com/en-us/powershell/module/microsoft.powershell.management/get-location) gets information about the current working location or a location stack."
   ]
  },
  {
   "cell_type": "code",
   "execution_count": 8,
   "id": "66f27439-30c6-42cf-a5e1-9b74984ef4b6",
   "metadata": {},
   "outputs": [
    {
     "name": "stdout",
     "output_type": "stream",
     "text": [
      "E:\\FEAUsers\\Sergio\\Programming\\Tutorials\\PowerShell\\Files_and_directories\n"
     ]
    }
   ],
   "source": [
    "(Get-Location).Path"
   ]
  }
 ],
 "metadata": {
  "kernelspec": {
   "display_name": ".NET (PowerShell)",
   "language": "PowerShell",
   "name": ".net-powershell"
  },
  "language_info": {
   "file_extension": ".ps1",
   "mimetype": "text/x-powershell",
   "name": "PowerShell",
   "pygments_lexer": "powershell",
   "version": "7.0"
  }
 },
 "nbformat": 4,
 "nbformat_minor": 5
}
