{
 "cells": [
  {
   "cell_type": "markdown",
   "id": "9e0f3081-7805-45be-b47d-53f1ba71f1be",
   "metadata": {},
   "source": [
    "# Working with files and directories\n",
    "\n",
    "## Current working location\n",
    "\n",
    "[Get-Location](https://docs.microsoft.com/en-us/powershell/module/microsoft.powershell.management/get-location) gets information about the current working location or a location stack."
   ]
  },
  {
   "cell_type": "code",
   "execution_count": 1,
   "id": "66f27439-30c6-42cf-a5e1-9b74984ef4b6",
   "metadata": {},
   "outputs": [
    {
     "data": {
      "text/html": [
       "\r\n",
       "<div>\r\n",
       "    <div id='dotnet-interactive-this-cell-29648.Microsoft.DotNet.Interactive.Http.HttpPort' style='display: none'>\r\n",
       "        The below script needs to be able to find the current output cell; this is an easy method to get it.\r\n",
       "    </div>\r\n",
       "    <script type='text/javascript'>\r\n",
       "async function probeAddresses(probingAddresses) {\r\n",
       "    function timeout(ms, promise) {\r\n",
       "        return new Promise(function (resolve, reject) {\r\n",
       "            setTimeout(function () {\r\n",
       "                reject(new Error('timeout'))\r\n",
       "            }, ms)\r\n",
       "            promise.then(resolve, reject)\r\n",
       "        })\r\n",
       "    }\r\n",
       "\r\n",
       "    if (Array.isArray(probingAddresses)) {\r\n",
       "        for (let i = 0; i < probingAddresses.length; i++) {\r\n",
       "\r\n",
       "            let rootUrl = probingAddresses[i];\r\n",
       "\r\n",
       "            if (!rootUrl.endsWith('/')) {\r\n",
       "                rootUrl = `${rootUrl}/`;\r\n",
       "            }\r\n",
       "\r\n",
       "            try {\r\n",
       "                let response = await timeout(1000, fetch(`${rootUrl}discovery`, {\r\n",
       "                    method: 'POST',\r\n",
       "                    cache: 'no-cache',\r\n",
       "                    mode: 'cors',\r\n",
       "                    timeout: 1000,\r\n",
       "                    headers: {\r\n",
       "                        'Content-Type': 'text/plain'\r\n",
       "                    },\r\n",
       "                    body: probingAddresses[i]\r\n",
       "                }));\r\n",
       "\r\n",
       "                if (response.status == 200) {\r\n",
       "                    return rootUrl;\r\n",
       "                }\r\n",
       "            }\r\n",
       "            catch (e) { }\r\n",
       "        }\r\n",
       "    }\r\n",
       "}\r\n",
       "\r\n",
       "function loadDotnetInteractiveApi() {\r\n",
       "    probeAddresses([\"http://192.168.1.25:1000/\", \"http://127.0.0.1:1000/\"])\r\n",
       "        .then((root) => {\r\n",
       "        // use probing to find host url and api resources\r\n",
       "        // load interactive helpers and language services\r\n",
       "        let dotnetInteractiveRequire = require.config({\r\n",
       "        context: '29648.Microsoft.DotNet.Interactive.Http.HttpPort',\r\n",
       "                paths:\r\n",
       "            {\r\n",
       "                'dotnet-interactive': `${root}resources`\r\n",
       "                }\r\n",
       "        }) || require;\r\n",
       "\r\n",
       "            window.dotnetInteractiveRequire = dotnetInteractiveRequire;\r\n",
       "\r\n",
       "            window.configureRequireFromExtension = function(extensionName, extensionCacheBuster) {\r\n",
       "                let paths = {};\r\n",
       "                paths[extensionName] = `${root}extensions/${extensionName}/resources/`;\r\n",
       "                \r\n",
       "                let internalRequire = require.config({\r\n",
       "                    context: extensionCacheBuster,\r\n",
       "                    paths: paths,\r\n",
       "                    urlArgs: `cacheBuster=${extensionCacheBuster}`\r\n",
       "                    }) || require;\r\n",
       "\r\n",
       "                return internalRequire\r\n",
       "            };\r\n",
       "        \r\n",
       "            dotnetInteractiveRequire([\r\n",
       "                    'dotnet-interactive/dotnet-interactive'\r\n",
       "                ],\r\n",
       "                function (dotnet) {\r\n",
       "                    dotnet.init(window);\r\n",
       "                },\r\n",
       "                function (error) {\r\n",
       "                    console.log(error);\r\n",
       "                }\r\n",
       "            );\r\n",
       "        })\r\n",
       "        .catch(error => {console.log(error);});\r\n",
       "    }\r\n",
       "\r\n",
       "// ensure `require` is available globally\r\n",
       "if ((typeof(require) !==  typeof(Function)) || (typeof(require.config) !== typeof(Function))) {\r\n",
       "    let require_script = document.createElement('script');\r\n",
       "    require_script.setAttribute('src', 'https://cdnjs.cloudflare.com/ajax/libs/require.js/2.3.6/require.min.js');\r\n",
       "    require_script.setAttribute('type', 'text/javascript');\r\n",
       "    \r\n",
       "    \r\n",
       "    require_script.onload = function() {\r\n",
       "        loadDotnetInteractiveApi();\r\n",
       "    };\r\n",
       "\r\n",
       "    document.getElementsByTagName('head')[0].appendChild(require_script);\r\n",
       "}\r\n",
       "else {\r\n",
       "    loadDotnetInteractiveApi();\r\n",
       "}\r\n",
       "\r\n",
       "    </script>\r\n",
       "</div>"
      ]
     },
     "metadata": {},
     "output_type": "display_data"
    },
    {
     "name": "stdout",
     "output_type": "stream",
     "text": [
      "E:\\FEAUsers\\Sergio\\Programming\\Tutorials\\PowerShell\\Files_and_directories\n"
     ]
    }
   ],
   "source": [
    "(Get-Location).Path"
   ]
  },
  {
   "cell_type": "markdown",
   "id": "d1df10f1-76af-4bba-9310-f6a0726b1b8c",
   "metadata": {},
   "source": [
    "[Set-Location](https://docs.microsoft.com/en-us/powershell/module/microsoft.powershell.management/set-location) sets the current working location to a specified location."
   ]
  },
  {
   "cell_type": "markdown",
   "id": "11c6b077-dec3-4e95-a8b0-37b129551329",
   "metadata": {},
   "source": [
    "## Listing all the files and directories within a directory\n",
    "\n",
    "[Get-ChildItem](https://docs.microsoft.com/en-us/powershell/module/microsoft.powershell.management/get-childitem) gets the items and child items in one or more specified locations. If the item is a container, it gets the items inside the container, known as child items."
   ]
  },
  {
   "cell_type": "code",
   "execution_count": 2,
   "id": "9bd11019-a91f-48e0-af8e-6846dfe3041e",
   "metadata": {},
   "outputs": [
    {
     "name": "stdout",
     "output_type": "stream",
     "text": [
      "\n",
      "    Directory: E:\\FEAUsers\\Sergio\\Programming\\Tutorials\\PowerShell\\Files_and_directories\\Dir_1\n",
      "\n",
      "\u001b[32;1mMode                 LastWriteTime         Length Name\u001b[0m\n",
      "\u001b[32;1m----                 -------------         ------ ----\u001b[0m\n",
      "d----          06/07/2022    13:23                Dir_2\n",
      "d----          06/07/2022    13:23                Dir_3\n",
      "\n"
     ]
    }
   ],
   "source": [
    "$Dir = '.\\Dir_1'\n",
    "Get-ChildItem -Path $Dir"
   ]
  },
  {
   "cell_type": "markdown",
   "id": "0bb79563-1c1e-443f-aae1-40b7ff1c858d",
   "metadata": {},
   "source": [
    "The [ForEach-Object](https://docs.microsoft.com/en-us/powershell/module/microsoft.powershell.core/foreach-object) cmdlet can be used to get just the *FullName* property. *Foreach* is an alias of the *ForEach-Object* cmdlet."
   ]
  },
  {
   "cell_type": "code",
   "execution_count": 3,
   "id": "f19bd403-4f56-4c7b-ac05-d53fa6cf8419",
   "metadata": {},
   "outputs": [
    {
     "name": "stdout",
     "output_type": "stream",
     "text": [
      "E:\\FEAUsers\\Sergio\\Programming\\Tutorials\\PowerShell\\Files_and_directories\\Dir_1\\Dir_2\n",
      "E:\\FEAUsers\\Sergio\\Programming\\Tutorials\\PowerShell\\Files_and_directories\\Dir_1\\Dir_3\n"
     ]
    }
   ],
   "source": [
    "Get-ChildItem -Path $Dir | Foreach FullName"
   ]
  },
  {
   "cell_type": "markdown",
   "id": "a909d433-b8f4-431a-97df-97cfc566a020",
   "metadata": {},
   "source": [
    "PowerShell offers the ability to request FullName directly. PowerShell enumerates them all for us and returns a clean list."
   ]
  },
  {
   "cell_type": "code",
   "execution_count": 4,
   "id": "64a9179c-636f-4158-b62f-3ae651000877",
   "metadata": {},
   "outputs": [
    {
     "name": "stdout",
     "output_type": "stream",
     "text": [
      "E:\\FEAUsers\\Sergio\\Programming\\Tutorials\\PowerShell\\Files_and_directories\\Dir_1\\Dir_2\n",
      "E:\\FEAUsers\\Sergio\\Programming\\Tutorials\\PowerShell\\Files_and_directories\\Dir_1\\Dir_3\n"
     ]
    }
   ],
   "source": [
    "(Get-ChildItem -Path $Dir).Fullname"
   ]
  },
  {
   "cell_type": "markdown",
   "id": "2c6228d9-e896-49a8-a15f-9711cbe25dc2",
   "metadata": {},
   "source": [
    "The *-Recurse* parameter can be used to get items in all child containers."
   ]
  },
  {
   "cell_type": "code",
   "execution_count": 5,
   "id": "c2366386-37ea-409f-bbbf-6704091a13cf",
   "metadata": {},
   "outputs": [
    {
     "name": "stdout",
     "output_type": "stream",
     "text": [
      "E:\\FEAUsers\\Sergio\\Programming\\Tutorials\\PowerShell\\Files_and_directories\\Dir_1\\Dir_2\n",
      "E:\\FEAUsers\\Sergio\\Programming\\Tutorials\\PowerShell\\Files_and_directories\\Dir_1\\Dir_3\n",
      "E:\\FEAUsers\\Sergio\\Programming\\Tutorials\\PowerShell\\Files_and_directories\\Dir_1\\Dir_2\\File_1.txt\n",
      "E:\\FEAUsers\\Sergio\\Programming\\Tutorials\\PowerShell\\Files_and_directories\\Dir_1\\Dir_3\\File_2.txt\n"
     ]
    }
   ],
   "source": [
    "(Get-ChildItem -Path $Dir -Recurse).Fullname"
   ]
  },
  {
   "cell_type": "markdown",
   "id": "0b3e669a-a4a7-413d-87de-20900f54212c",
   "metadata": {},
   "source": [
    "The *-Directory* and *-File* parameters can be used to just list directories or files."
   ]
  },
  {
   "cell_type": "code",
   "execution_count": 6,
   "id": "b2dcbcc6-d8c9-481e-ab84-cd041f9f17d4",
   "metadata": {},
   "outputs": [
    {
     "name": "stdout",
     "output_type": "stream",
     "text": [
      "E:\\FEAUsers\\Sergio\\Programming\\Tutorials\\PowerShell\\Files_and_directories\\Dir_1\\Dir_2\n",
      "E:\\FEAUsers\\Sergio\\Programming\\Tutorials\\PowerShell\\Files_and_directories\\Dir_1\\Dir_3\n"
     ]
    }
   ],
   "source": [
    "(Get-ChildItem -Path $Dir -Recurse -Directory).Fullname"
   ]
  },
  {
   "cell_type": "code",
   "execution_count": 7,
   "id": "5594065b-0937-4b12-8921-19521c167f91",
   "metadata": {},
   "outputs": [
    {
     "name": "stdout",
     "output_type": "stream",
     "text": [
      "E:\\FEAUsers\\Sergio\\Programming\\Tutorials\\PowerShell\\Files_and_directories\\Dir_1\\Dir_2\\File_1.txt\n",
      "E:\\FEAUsers\\Sergio\\Programming\\Tutorials\\PowerShell\\Files_and_directories\\Dir_1\\Dir_3\\File_2.txt\n"
     ]
    }
   ],
   "source": [
    "(Get-ChildItem -Path $Dir -Recurse -File).Fullname"
   ]
  },
  {
   "cell_type": "markdown",
   "id": "834fb62c-90e3-4598-a447-f7400b3973c3",
   "metadata": {},
   "source": [
    "## Creating, copying and deleting files and folders\n",
    "\n",
    "[New-Item](https://docs.microsoft.com/en-us/powershell/module/microsoft.powershell.management/new-item) creates a new item."
   ]
  },
  {
   "cell_type": "code",
   "execution_count": 8,
   "id": "5cc821ff-b0ef-4ff9-ab11-b213bf695bb7",
   "metadata": {},
   "outputs": [
    {
     "name": "stdout",
     "output_type": "stream",
     "text": [
      "\n",
      "    Directory: E:\\FEAUsers\\Sergio\\Programming\\Tutorials\\PowerShell\\Files_and_directories\\Dir_1\n",
      "\n",
      "\u001b[32;1mMode                 LastWriteTime         Length Name\u001b[0m\n",
      "\u001b[32;1m----                 -------------         ------ ----\u001b[0m\n",
      "d----          17/07/2022    09:47                Dir_4\n",
      "\n"
     ]
    }
   ],
   "source": [
    "New-Item -Path '.\\Dir_1\\Dir_4' -ItemType 'Directory'"
   ]
  },
  {
   "cell_type": "markdown",
   "id": "046e2ab9-a921-4b1f-83e9-e808e4fc18b3",
   "metadata": {},
   "source": [
    "Copying is done with [Copy-Item](https://docs.microsoft.com/en-us/powershell/module/microsoft.powershell.management/copy-item). The particular items that the cmdlet can copy depend on the PowerShell provider that exposes the item. For instance, it can copy files and directories in a file system drive and registry keys and entries in the registry drive.\n",
    "\n",
    "The parameter *-Recurse* needs to be used to copy the items contained in a folder."
   ]
  },
  {
   "cell_type": "code",
   "execution_count": 9,
   "id": "b716e9e6-056a-4905-a5e0-5ff2093ae1b9",
   "metadata": {},
   "outputs": [],
   "source": [
    "Copy-Item -Path '.\\Dir_1\\Dir_2' -Destination '.\\Dir_1\\Dir_5' -Recurse"
   ]
  },
  {
   "cell_type": "code",
   "execution_count": 10,
   "id": "6477edbf-e81d-49fa-ba39-f82b25d4ee41",
   "metadata": {},
   "outputs": [],
   "source": [
    "Copy-Item -Path '.\\Dir_1\\Dir_5\\File_1.txt' -Destination '.\\Dir_1\\Dir_5\\File_2.txt'"
   ]
  },
  {
   "cell_type": "markdown",
   "id": "0360f764-383b-4309-ad29-109b74446efc",
   "metadata": {},
   "source": [
    "[Remove-Item](https://docs.microsoft.com/en-us/powershell/module/microsoft.powershell.management/remove-item) deletes one or more items. Because it is supported by many providers, it can delete many different types of items, including files, folders, registry keys, variables, aliases, and functions."
   ]
  },
  {
   "cell_type": "code",
   "execution_count": 11,
   "id": "fa9b1ae9-84a8-489a-9d5a-ae0f55ff9e97",
   "metadata": {},
   "outputs": [],
   "source": [
    "Remove-Item @('.\\Dir_1\\Dir_4', '.\\Dir_1\\Dir_5') -Recurse"
   ]
  },
  {
   "cell_type": "markdown",
   "id": "f11605d6-2c00-41df-b7b2-ed77f521f1b9",
   "metadata": {},
   "source": [
    "## Get the specified part of a path\n",
    "\n",
    "[Split-Path](https://docs.microsoft.com/en-us/powershell/module/microsoft.powershell.management/split-path) returns the specified part of a path, such as the parent folder, a subfolder, or a file name. It can also get items that are referenced by the split path and tell whether the path is relative or absolute."
   ]
  },
  {
   "cell_type": "code",
   "execution_count": 12,
   "id": "daf74d84-4434-477a-8175-75661e0d5999",
   "metadata": {},
   "outputs": [],
   "source": [
    "$Filepath = 'C:\\Dir\\File.txt'"
   ]
  },
  {
   "cell_type": "markdown",
   "id": "6e5fec83-4ab6-4ee4-8751-f2a901108242",
   "metadata": {},
   "source": [
    "Get the parent container:"
   ]
  },
  {
   "cell_type": "code",
   "execution_count": 13,
   "id": "08e675af-0ab8-4a9e-acc3-a5c836a314a8",
   "metadata": {},
   "outputs": [
    {
     "name": "stdout",
     "output_type": "stream",
     "text": [
      "C:\\Dir\n"
     ]
    }
   ],
   "source": [
    "Split-Path -Path $Filepath"
   ]
  },
  {
   "cell_type": "markdown",
   "id": "43138a94-ffa8-4a38-bb99-10512662b4c6",
   "metadata": {},
   "source": [
    "Get the last item or container in the path:"
   ]
  },
  {
   "cell_type": "code",
   "execution_count": 14,
   "id": "2b9e4ea9-5626-447b-8f6a-47c953a879f4",
   "metadata": {},
   "outputs": [
    {
     "name": "stdout",
     "output_type": "stream",
     "text": [
      "File.txt\n"
     ]
    }
   ],
   "source": [
    "Split-Path -Path $Filepath -Leaf"
   ]
  },
  {
   "cell_type": "markdown",
   "id": "f95b0ef9-b1d5-427b-82d7-475674b874cc",
   "metadata": {},
   "source": [
    " Get only the base name of the leaf:"
   ]
  },
  {
   "cell_type": "code",
   "execution_count": 15,
   "id": "288d07c2-ae8a-4c2f-81f2-941b72aec9c4",
   "metadata": {},
   "outputs": [
    {
     "name": "stdout",
     "output_type": "stream",
     "text": [
      "File\n"
     ]
    }
   ],
   "source": [
    "Split-Path -Path $Filepath -LeafBase"
   ]
  },
  {
   "cell_type": "markdown",
   "id": "6b238240-b50b-4396-abd7-180d2bb7b6f0",
   "metadata": {},
   "source": [
    " Get only the extension of the leaf:"
   ]
  },
  {
   "cell_type": "code",
   "execution_count": 16,
   "id": "85d6d24a-36cc-42d2-8b14-6fb5a5cd73fd",
   "metadata": {},
   "outputs": [
    {
     "name": "stdout",
     "output_type": "stream",
     "text": [
      ".txt\n"
     ]
    }
   ],
   "source": [
    "Split-Path -Path $Filepath -Extension"
   ]
  },
  {
   "cell_type": "markdown",
   "id": "44aa8999-a9e5-4d0d-9d42-6b9f0d83626c",
   "metadata": {},
   "source": [
    "Determine whether a path is absolute:"
   ]
  },
  {
   "cell_type": "code",
   "execution_count": 17,
   "id": "e1c86fec-9e18-4f50-ab1c-203291691e4b",
   "metadata": {},
   "outputs": [
    {
     "name": "stdout",
     "output_type": "stream",
     "text": [
      "True\n"
     ]
    }
   ],
   "source": [
    "Split-Path -Path $Filepath -IsAbsolute"
   ]
  }
 ],
 "metadata": {
  "kernelspec": {
   "display_name": ".NET (PowerShell)",
   "language": "PowerShell",
   "name": ".net-powershell"
  },
  "language_info": {
   "file_extension": ".ps1",
   "mimetype": "text/x-powershell",
   "name": "PowerShell",
   "pygments_lexer": "powershell",
   "version": "7.0"
  }
 },
 "nbformat": 4,
 "nbformat_minor": 5
}
