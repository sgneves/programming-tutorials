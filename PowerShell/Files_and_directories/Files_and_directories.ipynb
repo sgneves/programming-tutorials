{
 "cells": [
  {
   "cell_type": "markdown",
   "id": "11c6b077-dec3-4e95-a8b0-37b129551329",
   "metadata": {},
   "source": [
    "# Working with files and directories\n",
    "\n",
    "## Listing all the files and directories within a directory\n",
    "\n",
    "[Get-ChildItem](https://docs.microsoft.com/en-us/powershell/module/microsoft.powershell.management/get-childitem) gets the items and child items in one or more specified locations. If the item is a container, it gets the items inside the container, known as child items."
   ]
  },
  {
   "cell_type": "code",
   "execution_count": 4,
   "id": "848a3353-b5dd-4538-b1bb-5f67e0901ca4",
   "metadata": {},
   "outputs": [],
   "source": [
    "$Dir = 'E:\\FEAUsers\\Sergio\\Programming\\Tutorials\\PowerShell\\Files_and_directories\\Dir_1'"
   ]
  },
  {
   "cell_type": "code",
   "execution_count": 5,
   "id": "9bd11019-a91f-48e0-af8e-6846dfe3041e",
   "metadata": {},
   "outputs": [
    {
     "name": "stdout",
     "output_type": "stream",
     "text": [
      "\n",
      "    Directory: E:\\FEAUsers\\Sergio\\Programming\\Tutorials\\PowerShell\\Files_and_directories\\Dir_1\n",
      "\n",
      "\u001b[32;1mMode                 LastWriteTime         Length Name\u001b[0m\n",
      "\u001b[32;1m----                 -------------         ------ ----\u001b[0m\n",
      "d----          18/05/2022    12:16                Dir_2\n",
      "d----          18/05/2022    12:16                Dir_3\n",
      "\n"
     ]
    }
   ],
   "source": [
    "Get-ChildItem -Path $Dir"
   ]
  },
  {
   "cell_type": "markdown",
   "id": "0bb79563-1c1e-443f-aae1-40b7ff1c858d",
   "metadata": {},
   "source": [
    "The *ForEach-Object* cmdlet can be used to get just the *FullName* property. *Foreach* is an alias of the *ForEach-Object* cmdlet."
   ]
  },
  {
   "cell_type": "code",
   "execution_count": 6,
   "id": "f19bd403-4f56-4c7b-ac05-d53fa6cf8419",
   "metadata": {},
   "outputs": [
    {
     "name": "stdout",
     "output_type": "stream",
     "text": [
      "E:\\FEAUsers\\Sergio\\Programming\\Tutorials\\PowerShell\\Files_and_directories\\Dir_1\\Dir_2\n",
      "E:\\FEAUsers\\Sergio\\Programming\\Tutorials\\PowerShell\\Files_and_directories\\Dir_1\\Dir_3\n"
     ]
    }
   ],
   "source": [
    "Get-ChildItem -Path $Dir | Foreach FullName"
   ]
  },
  {
   "cell_type": "markdown",
   "id": "2c6228d9-e896-49a8-a15f-9711cbe25dc2",
   "metadata": {},
   "source": [
    "The *-Recurse* parameter can be used to get items in all child containers."
   ]
  },
  {
   "cell_type": "code",
   "execution_count": 7,
   "id": "f1587961-4b6c-43d1-9325-a7113778ac2c",
   "metadata": {},
   "outputs": [
    {
     "name": "stdout",
     "output_type": "stream",
     "text": [
      "E:\\FEAUsers\\Sergio\\Programming\\Tutorials\\PowerShell\\Files_and_directories\\Dir_1\\Dir_2\n",
      "E:\\FEAUsers\\Sergio\\Programming\\Tutorials\\PowerShell\\Files_and_directories\\Dir_1\\Dir_3\n",
      "E:\\FEAUsers\\Sergio\\Programming\\Tutorials\\PowerShell\\Files_and_directories\\Dir_1\\Dir_2\\File_1.txt\n",
      "E:\\FEAUsers\\Sergio\\Programming\\Tutorials\\PowerShell\\Files_and_directories\\Dir_1\\Dir_3\\File_2.txt\n"
     ]
    }
   ],
   "source": [
    "Get-ChildItem -Path $Dir -Recurse | Foreach FullName"
   ]
  },
  {
   "cell_type": "markdown",
   "id": "0b3e669a-a4a7-413d-87de-20900f54212c",
   "metadata": {},
   "source": [
    "The *-Directory* and *-File* parameters can be used to just list directories or files."
   ]
  },
  {
   "cell_type": "code",
   "execution_count": 8,
   "id": "b2dcbcc6-d8c9-481e-ab84-cd041f9f17d4",
   "metadata": {},
   "outputs": [
    {
     "name": "stdout",
     "output_type": "stream",
     "text": [
      "E:\\FEAUsers\\Sergio\\Programming\\Tutorials\\PowerShell\\Files_and_directories\\Dir_1\\Dir_2\n",
      "E:\\FEAUsers\\Sergio\\Programming\\Tutorials\\PowerShell\\Files_and_directories\\Dir_1\\Dir_3\n"
     ]
    }
   ],
   "source": [
    "Get-ChildItem -Path $Dir -Recurse -Directory | Foreach FullName"
   ]
  },
  {
   "cell_type": "code",
   "execution_count": 9,
   "id": "5594065b-0937-4b12-8921-19521c167f91",
   "metadata": {},
   "outputs": [
    {
     "name": "stdout",
     "output_type": "stream",
     "text": [
      "E:\\FEAUsers\\Sergio\\Programming\\Tutorials\\PowerShell\\Files_and_directories\\Dir_1\\Dir_2\\File_1.txt\n",
      "E:\\FEAUsers\\Sergio\\Programming\\Tutorials\\PowerShell\\Files_and_directories\\Dir_1\\Dir_3\\File_2.txt\n"
     ]
    }
   ],
   "source": [
    "Get-ChildItem -Path $Dir -Recurse -File | Foreach FullName"
   ]
  }
 ],
 "metadata": {
  "kernelspec": {
   "display_name": ".NET (PowerShell)",
   "language": "PowerShell",
   "name": ".net-powershell"
  },
  "language_info": {
   "file_extension": ".ps1",
   "mimetype": "text/x-powershell",
   "name": "PowerShell",
   "pygments_lexer": "powershell",
   "version": "7.0"
  }
 },
 "nbformat": 4,
 "nbformat_minor": 5
}
