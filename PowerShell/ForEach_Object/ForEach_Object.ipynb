{
 "cells": [
  {
   "cell_type": "markdown",
   "id": "554ee5ff-e492-464c-92e9-326ab9cd8cb1",
   "metadata": {},
   "source": [
    "# ForEach-Object\n",
    "\n",
    "[ForEach-Object](https://docs.microsoft.com/en-us/powershell/module/microsoft.powershell.core/foreach-object) performs an operation against each item in a collection of input objects. The input objects can be piped to the cmdlet or specified using the InputObject parameter."
   ]
  },
  {
   "cell_type": "code",
   "execution_count": 1,
   "id": "c44b0ed9-dba2-4037-99eb-5ac9265a6089",
   "metadata": {},
   "outputs": [
    {
     "data": {
      "text/html": [
       "\r\n",
       "<div>\r\n",
       "    <div id='dotnet-interactive-this-cell-73712.Microsoft.DotNet.Interactive.Http.HttpPort' style='display: none'>\r\n",
       "        The below script needs to be able to find the current output cell; this is an easy method to get it.\r\n",
       "    </div>\r\n",
       "    <script type='text/javascript'>\r\n",
       "async function probeAddresses(probingAddresses) {\r\n",
       "    function timeout(ms, promise) {\r\n",
       "        return new Promise(function (resolve, reject) {\r\n",
       "            setTimeout(function () {\r\n",
       "                reject(new Error('timeout'))\r\n",
       "            }, ms)\r\n",
       "            promise.then(resolve, reject)\r\n",
       "        })\r\n",
       "    }\r\n",
       "\r\n",
       "    if (Array.isArray(probingAddresses)) {\r\n",
       "        for (let i = 0; i < probingAddresses.length; i++) {\r\n",
       "\r\n",
       "            let rootUrl = probingAddresses[i];\r\n",
       "\r\n",
       "            if (!rootUrl.endsWith('/')) {\r\n",
       "                rootUrl = `${rootUrl}/`;\r\n",
       "            }\r\n",
       "\r\n",
       "            try {\r\n",
       "                let response = await timeout(1000, fetch(`${rootUrl}discovery`, {\r\n",
       "                    method: 'POST',\r\n",
       "                    cache: 'no-cache',\r\n",
       "                    mode: 'cors',\r\n",
       "                    timeout: 1000,\r\n",
       "                    headers: {\r\n",
       "                        'Content-Type': 'text/plain'\r\n",
       "                    },\r\n",
       "                    body: probingAddresses[i]\r\n",
       "                }));\r\n",
       "\r\n",
       "                if (response.status == 200) {\r\n",
       "                    return rootUrl;\r\n",
       "                }\r\n",
       "            }\r\n",
       "            catch (e) { }\r\n",
       "        }\r\n",
       "    }\r\n",
       "}\r\n",
       "\r\n",
       "function loadDotnetInteractiveApi() {\r\n",
       "    probeAddresses([\"http://192.168.1.25:1000/\", \"http://127.0.0.1:1000/\"])\r\n",
       "        .then((root) => {\r\n",
       "        // use probing to find host url and api resources\r\n",
       "        // load interactive helpers and language services\r\n",
       "        let dotnetInteractiveRequire = require.config({\r\n",
       "        context: '73712.Microsoft.DotNet.Interactive.Http.HttpPort',\r\n",
       "                paths:\r\n",
       "            {\r\n",
       "                'dotnet-interactive': `${root}resources`\r\n",
       "                }\r\n",
       "        }) || require;\r\n",
       "\r\n",
       "            window.dotnetInteractiveRequire = dotnetInteractiveRequire;\r\n",
       "\r\n",
       "            window.configureRequireFromExtension = function(extensionName, extensionCacheBuster) {\r\n",
       "                let paths = {};\r\n",
       "                paths[extensionName] = `${root}extensions/${extensionName}/resources/`;\r\n",
       "                \r\n",
       "                let internalRequire = require.config({\r\n",
       "                    context: extensionCacheBuster,\r\n",
       "                    paths: paths,\r\n",
       "                    urlArgs: `cacheBuster=${extensionCacheBuster}`\r\n",
       "                    }) || require;\r\n",
       "\r\n",
       "                return internalRequire\r\n",
       "            };\r\n",
       "        \r\n",
       "            dotnetInteractiveRequire([\r\n",
       "                    'dotnet-interactive/dotnet-interactive'\r\n",
       "                ],\r\n",
       "                function (dotnet) {\r\n",
       "                    dotnet.init(window);\r\n",
       "                },\r\n",
       "                function (error) {\r\n",
       "                    console.log(error);\r\n",
       "                }\r\n",
       "            );\r\n",
       "        })\r\n",
       "        .catch(error => {console.log(error);});\r\n",
       "    }\r\n",
       "\r\n",
       "// ensure `require` is available globally\r\n",
       "if ((typeof(require) !==  typeof(Function)) || (typeof(require.config) !== typeof(Function))) {\r\n",
       "    let require_script = document.createElement('script');\r\n",
       "    require_script.setAttribute('src', 'https://cdnjs.cloudflare.com/ajax/libs/require.js/2.3.6/require.min.js');\r\n",
       "    require_script.setAttribute('type', 'text/javascript');\r\n",
       "    \r\n",
       "    \r\n",
       "    require_script.onload = function() {\r\n",
       "        loadDotnetInteractiveApi();\r\n",
       "    };\r\n",
       "\r\n",
       "    document.getElementsByTagName('head')[0].appendChild(require_script);\r\n",
       "}\r\n",
       "else {\r\n",
       "    loadDotnetInteractiveApi();\r\n",
       "}\r\n",
       "\r\n",
       "    </script>\r\n",
       "</div>"
      ]
     },
     "metadata": {},
     "output_type": "display_data"
    },
    {
     "name": "stdout",
     "output_type": "stream",
     "text": [
      "1\n",
      "2\n",
      "3\n"
     ]
    }
   ],
   "source": [
    "2, 4, 6 | ForEach-Object {$_/2}"
   ]
  },
  {
   "cell_type": "markdown",
   "id": "d9a90948-b978-44d2-a26a-da94bea8d367",
   "metadata": {},
   "source": [
    "*Foreach* is an alias of the *ForEach-Object* cmdlet."
   ]
  },
  {
   "cell_type": "code",
   "execution_count": 2,
   "id": "74b9959c-6f82-434b-9e2c-4e2a020bed52",
   "metadata": {},
   "outputs": [
    {
     "name": "stdout",
     "output_type": "stream",
     "text": [
      "1\n",
      "2\n",
      "3\n"
     ]
    }
   ],
   "source": [
    "2, 4, 6 | ForEach {$_/2}"
   ]
  },
  {
   "cell_type": "markdown",
   "id": "b2e9594d-84ab-47a1-a652-f34663923138",
   "metadata": {},
   "source": [
    "There are two different ways to construct a *ForEach-Object* command:\n",
    "* **Script block** - Within the script block, use the $_ variable to represent the current object. The script block is the value of the Process parameter. The script blocks run in the caller's scope. Therefore the blocks have access to variables in that scope and can create new variables that persist in that scope after the cmdlet completes."
   ]
  },
  {
   "cell_type": "code",
   "execution_count": 3,
   "id": "d0be445d-a8c1-4cf9-a5ba-10d3d0409285",
   "metadata": {},
   "outputs": [
    {
     "name": "stdout",
     "output_type": "stream",
     "text": [
      "E:\\FEAUsers\\Sergio\\Programming\\Tutorials\\PowerShell\\Files_and_directories\\Dir_1\\Dir_2\n",
      "E:\\FEAUsers\\Sergio\\Programming\\Tutorials\\PowerShell\\Files_and_directories\\Dir_1\\Dir_3\n"
     ]
    }
   ],
   "source": [
    "Get-ChildItem -Path '..\\Files_and_directories\\Dir_1' | Foreach {$_.FullName}"
   ]
  },
  {
   "cell_type": "markdown",
   "id": "3dc0bc4b-f81b-4efb-8d30-9aadbb782428",
   "metadata": {},
   "source": [
    "* **Operation statement** - It is more like natural language. You can use the operation statement to specify a property value or call a method."
   ]
  },
  {
   "cell_type": "code",
   "execution_count": 4,
   "id": "b9ac109e-f6e4-46af-a8e3-71da4e3a6913",
   "metadata": {},
   "outputs": [
    {
     "name": "stdout",
     "output_type": "stream",
     "text": [
      "E:\\FEAUsers\\Sergio\\Programming\\Tutorials\\PowerShell\\Files_and_directories\\Dir_1\\Dir_2\n",
      "E:\\FEAUsers\\Sergio\\Programming\\Tutorials\\PowerShell\\Files_and_directories\\Dir_1\\Dir_3\n"
     ]
    }
   ],
   "source": [
    "Get-ChildItem -Path '..\\Files_and_directories\\Dir_1' | Foreach FullName"
   ]
  },
  {
   "cell_type": "markdown",
   "id": "841bb605-04bd-402e-9503-f0d8234df1c3",
   "metadata": {},
   "source": [
    "The *ForEach-Object* cmdlet returns objects that are determined by the input."
   ]
  },
  {
   "cell_type": "code",
   "execution_count": 5,
   "id": "5167c587-ab58-4c2a-8187-950cb2f5a02a",
   "metadata": {},
   "outputs": [
    {
     "name": "stdout",
     "output_type": "stream",
     "text": [
      "True\n"
     ]
    }
   ],
   "source": [
    "$v1 = 0 .. 3\n",
    "$v2 = $v1 | ForEach {$_*2}\n",
    "$v1.GetType() -Eq $v2.GetType()"
   ]
  }
 ],
 "metadata": {
  "kernelspec": {
   "display_name": ".NET (PowerShell)",
   "language": "PowerShell",
   "name": ".net-powershell"
  },
  "language_info": {
   "file_extension": ".ps1",
   "mimetype": "text/x-powershell",
   "name": "PowerShell",
   "pygments_lexer": "powershell",
   "version": "7.0"
  }
 },
 "nbformat": 4,
 "nbformat_minor": 5
}
